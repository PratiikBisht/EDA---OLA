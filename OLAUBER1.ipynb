{
 "cells": [
  {
   "cell_type": "markdown",
   "id": "62d3c629",
   "metadata": {},
   "source": [
    "# OLA AND UBER RATING REVIEW ANALYSIS"
   ]
  },
  {
   "cell_type": "code",
   "execution_count": 2,
   "id": "16247aa6",
   "metadata": {},
   "outputs": [],
   "source": [
    "import numpy as np \n",
    "import pandas as pd \n",
    "\n",
    "import zipfile\n",
    "\n",
    "zip_file_path = 'C:/Users/prateek/Documents/DS PRO/Ola_Uber.zip'\n",
    "\n",
    "with zipfile.ZipFile(zip_file_path, 'r') as zip_ref:\n",
    "    zip_ref.extractall('C:/Users/prateek/Documents/DS PRO')\n"
   ]
  },
  {
   "cell_type": "code",
   "execution_count": null,
   "id": "4689ef1a",
   "metadata": {},
   "outputs": [],
   "source": [
    "#dtypes = {'Column3': str}\n",
    "#df1= pd.read_csv('Uber Customer Reviews.csv',dtype=dtypes)\n",
    "#df2= pd.read_csv('Ola Customer Reviews.xls')"
   ]
  },
  {
   "cell_type": "code",
   "execution_count": 3,
   "id": "107f0508",
   "metadata": {},
   "outputs": [],
   "source": [
    "df1 = pd.read_csv('Uber Customer Reviews.csv', low_memory=False)"
   ]
  },
  {
   "cell_type": "code",
   "execution_count": 4,
   "id": "37dd5617",
   "metadata": {},
   "outputs": [
    {
     "data": {
      "text/html": [
       "<div>\n",
       "<style scoped>\n",
       "    .dataframe tbody tr th:only-of-type {\n",
       "        vertical-align: middle;\n",
       "    }\n",
       "\n",
       "    .dataframe tbody tr th {\n",
       "        vertical-align: top;\n",
       "    }\n",
       "\n",
       "    .dataframe thead th {\n",
       "        text-align: right;\n",
       "    }\n",
       "</style>\n",
       "<table border=\"1\" class=\"dataframe\">\n",
       "  <thead>\n",
       "    <tr style=\"text-align: right;\">\n",
       "      <th></th>\n",
       "      <th>source</th>\n",
       "      <th>review_id</th>\n",
       "      <th>user_name</th>\n",
       "      <th>review_title</th>\n",
       "      <th>review_description</th>\n",
       "      <th>rating</th>\n",
       "      <th>thumbs_up</th>\n",
       "      <th>review_date</th>\n",
       "      <th>developer_response</th>\n",
       "      <th>developer_response_date</th>\n",
       "      <th>appVersion</th>\n",
       "      <th>laguage_code</th>\n",
       "      <th>country_code</th>\n",
       "    </tr>\n",
       "  </thead>\n",
       "  <tbody>\n",
       "    <tr>\n",
       "      <th>0</th>\n",
       "      <td>Google Play</td>\n",
       "      <td>18d6584c-d0e9-4833-a744-f607058aee97</td>\n",
       "      <td>Milky Way</td>\n",
       "      <td>NaN</td>\n",
       "      <td>Suddenly, the driver can't have my location an...</td>\n",
       "      <td>1</td>\n",
       "      <td>0.0</td>\n",
       "      <td>2023-08-10 17:48:51</td>\n",
       "      <td>NaN</td>\n",
       "      <td>NaN</td>\n",
       "      <td>NaN</td>\n",
       "      <td>en</td>\n",
       "      <td>in</td>\n",
       "    </tr>\n",
       "    <tr>\n",
       "      <th>1</th>\n",
       "      <td>Google Play</td>\n",
       "      <td>50a08f18-cece-4ddf-b617-028844c8aa28</td>\n",
       "      <td>Bradlee Severa</td>\n",
       "      <td>NaN</td>\n",
       "      <td>Very cordial.. And helped with a quick turnaro...</td>\n",
       "      <td>5</td>\n",
       "      <td>0.0</td>\n",
       "      <td>2023-08-10 17:38:35</td>\n",
       "      <td>NaN</td>\n",
       "      <td>NaN</td>\n",
       "      <td>4.485.10000</td>\n",
       "      <td>en</td>\n",
       "      <td>in</td>\n",
       "    </tr>\n",
       "    <tr>\n",
       "      <th>2</th>\n",
       "      <td>Google Play</td>\n",
       "      <td>b0d8e75a-80a7-4dcd-abaf-72b046dbeeb7</td>\n",
       "      <td>Amit Aggarwal</td>\n",
       "      <td>NaN</td>\n",
       "      <td>Very good experience</td>\n",
       "      <td>5</td>\n",
       "      <td>0.0</td>\n",
       "      <td>2023-08-10 17:38:17</td>\n",
       "      <td>NaN</td>\n",
       "      <td>NaN</td>\n",
       "      <td>4.486.10002</td>\n",
       "      <td>en</td>\n",
       "      <td>in</td>\n",
       "    </tr>\n",
       "    <tr>\n",
       "      <th>3</th>\n",
       "      <td>Google Play</td>\n",
       "      <td>502702a9-25ed-4373-a96c-7fa1f06caacd</td>\n",
       "      <td>Bryant Inman</td>\n",
       "      <td>NaN</td>\n",
       "      <td>All I use</td>\n",
       "      <td>5</td>\n",
       "      <td>0.0</td>\n",
       "      <td>2023-08-10 17:37:45</td>\n",
       "      <td>NaN</td>\n",
       "      <td>NaN</td>\n",
       "      <td>4.467.10008</td>\n",
       "      <td>en</td>\n",
       "      <td>in</td>\n",
       "    </tr>\n",
       "    <tr>\n",
       "      <th>4</th>\n",
       "      <td>Google Play</td>\n",
       "      <td>f47a3fb6-23db-49bd-9e63-f33c8d724d07</td>\n",
       "      <td>Addie Whittaker</td>\n",
       "      <td>NaN</td>\n",
       "      <td>I have enjoyed traveling by Uber my drivers ha...</td>\n",
       "      <td>5</td>\n",
       "      <td>0.0</td>\n",
       "      <td>2023-08-10 17:36:56</td>\n",
       "      <td>NaN</td>\n",
       "      <td>NaN</td>\n",
       "      <td>4.486.10002</td>\n",
       "      <td>en</td>\n",
       "      <td>in</td>\n",
       "    </tr>\n",
       "    <tr>\n",
       "      <th>...</th>\n",
       "      <td>...</td>\n",
       "      <td>...</td>\n",
       "      <td>...</td>\n",
       "      <td>...</td>\n",
       "      <td>...</td>\n",
       "      <td>...</td>\n",
       "      <td>...</td>\n",
       "      <td>...</td>\n",
       "      <td>...</td>\n",
       "      <td>...</td>\n",
       "      <td>...</td>\n",
       "      <td>...</td>\n",
       "      <td>...</td>\n",
       "    </tr>\n",
       "    <tr>\n",
       "      <th>1069611</th>\n",
       "      <td>App Store</td>\n",
       "      <td>015547c9-1d97-4b92-8206-ef47a540b70b</td>\n",
       "      <td>Ad hater 20140323</td>\n",
       "      <td>Map problems</td>\n",
       "      <td>I tried to find away to report problems direct...</td>\n",
       "      <td>3</td>\n",
       "      <td>NaN</td>\n",
       "      <td>2019-02-20 19:41:25</td>\n",
       "      <td>{'id': 7416266, 'body': \"Hi, this doesn't soun...</td>\n",
       "      <td>NaN</td>\n",
       "      <td>NaN</td>\n",
       "      <td>en</td>\n",
       "      <td>in</td>\n",
       "    </tr>\n",
       "    <tr>\n",
       "      <th>1069612</th>\n",
       "      <td>App Store</td>\n",
       "      <td>e1125a24-a804-419e-8aa2-039e3f380d25</td>\n",
       "      <td>valeramos02</td>\n",
       "      <td>Quality decrease</td>\n",
       "      <td>I used to love Uber, specially the Uber pool s...</td>\n",
       "      <td>2</td>\n",
       "      <td>NaN</td>\n",
       "      <td>2019-01-24 12:13:39</td>\n",
       "      <td>{'id': 7006213, 'body': \"Hi, uber works better...</td>\n",
       "      <td>NaN</td>\n",
       "      <td>NaN</td>\n",
       "      <td>en</td>\n",
       "      <td>in</td>\n",
       "    </tr>\n",
       "    <tr>\n",
       "      <th>1069613</th>\n",
       "      <td>App Store</td>\n",
       "      <td>132aac5d-10df-4207-a71d-01d81a4efde0</td>\n",
       "      <td>Janeé Brown</td>\n",
       "      <td>Uber pool walking blocks to get to the ride is...</td>\n",
       "      <td>If I wanted to take a bus to be dropped off on...</td>\n",
       "      <td>1</td>\n",
       "      <td>NaN</td>\n",
       "      <td>2019-01-14 16:53:31</td>\n",
       "      <td>{'id': 6859976, 'body': 'Hi Janee, this certai...</td>\n",
       "      <td>NaN</td>\n",
       "      <td>NaN</td>\n",
       "      <td>en</td>\n",
       "      <td>in</td>\n",
       "    </tr>\n",
       "    <tr>\n",
       "      <th>1069614</th>\n",
       "      <td>App Store</td>\n",
       "      <td>99864769-f3f9-49fc-841e-3230a72fe18e</td>\n",
       "      <td>zachwiesler</td>\n",
       "      <td>TERRIBLE CUSTOMER SERVICE</td>\n",
       "      <td>Hello\\n\\nSTORY TIME\\n\\nI wanted to delete JUST...</td>\n",
       "      <td>1</td>\n",
       "      <td>NaN</td>\n",
       "      <td>2019-01-06 17:19:59</td>\n",
       "      <td>NaN</td>\n",
       "      <td>NaN</td>\n",
       "      <td>NaN</td>\n",
       "      <td>en</td>\n",
       "      <td>in</td>\n",
       "    </tr>\n",
       "    <tr>\n",
       "      <th>1069615</th>\n",
       "      <td>App Store</td>\n",
       "      <td>93f3188d-db2e-4532-bde3-6ec432558b5b</td>\n",
       "      <td>formerbaker1</td>\n",
       "      <td>Poor Customer Service</td>\n",
       "      <td>The past couple times I’ve ridden with Uber, I...</td>\n",
       "      <td>1</td>\n",
       "      <td>NaN</td>\n",
       "      <td>2019-01-06 12:34:01</td>\n",
       "      <td>{'id': 6709611, 'body': 'Hi, this certainly so...</td>\n",
       "      <td>NaN</td>\n",
       "      <td>NaN</td>\n",
       "      <td>en</td>\n",
       "      <td>in</td>\n",
       "    </tr>\n",
       "  </tbody>\n",
       "</table>\n",
       "<p>1069616 rows × 13 columns</p>\n",
       "</div>"
      ],
      "text/plain": [
       "              source                             review_id          user_name  \\\n",
       "0        Google Play  18d6584c-d0e9-4833-a744-f607058aee97          Milky Way   \n",
       "1        Google Play  50a08f18-cece-4ddf-b617-028844c8aa28     Bradlee Severa   \n",
       "2        Google Play  b0d8e75a-80a7-4dcd-abaf-72b046dbeeb7      Amit Aggarwal   \n",
       "3        Google Play  502702a9-25ed-4373-a96c-7fa1f06caacd       Bryant Inman   \n",
       "4        Google Play  f47a3fb6-23db-49bd-9e63-f33c8d724d07    Addie Whittaker   \n",
       "...              ...                                   ...                ...   \n",
       "1069611    App Store  015547c9-1d97-4b92-8206-ef47a540b70b  Ad hater 20140323   \n",
       "1069612    App Store  e1125a24-a804-419e-8aa2-039e3f380d25        valeramos02   \n",
       "1069613    App Store  132aac5d-10df-4207-a71d-01d81a4efde0        Janeé Brown   \n",
       "1069614    App Store  99864769-f3f9-49fc-841e-3230a72fe18e        zachwiesler   \n",
       "1069615    App Store  93f3188d-db2e-4532-bde3-6ec432558b5b       formerbaker1   \n",
       "\n",
       "                                              review_title  \\\n",
       "0                                                      NaN   \n",
       "1                                                      NaN   \n",
       "2                                                      NaN   \n",
       "3                                                      NaN   \n",
       "4                                                      NaN   \n",
       "...                                                    ...   \n",
       "1069611                                       Map problems   \n",
       "1069612                                   Quality decrease   \n",
       "1069613  Uber pool walking blocks to get to the ride is...   \n",
       "1069614                          TERRIBLE CUSTOMER SERVICE   \n",
       "1069615                              Poor Customer Service   \n",
       "\n",
       "                                        review_description  rating  thumbs_up  \\\n",
       "0        Suddenly, the driver can't have my location an...       1        0.0   \n",
       "1        Very cordial.. And helped with a quick turnaro...       5        0.0   \n",
       "2                                     Very good experience       5        0.0   \n",
       "3                                                All I use       5        0.0   \n",
       "4        I have enjoyed traveling by Uber my drivers ha...       5        0.0   \n",
       "...                                                    ...     ...        ...   \n",
       "1069611  I tried to find away to report problems direct...       3        NaN   \n",
       "1069612  I used to love Uber, specially the Uber pool s...       2        NaN   \n",
       "1069613  If I wanted to take a bus to be dropped off on...       1        NaN   \n",
       "1069614  Hello\\n\\nSTORY TIME\\n\\nI wanted to delete JUST...       1        NaN   \n",
       "1069615  The past couple times I’ve ridden with Uber, I...       1        NaN   \n",
       "\n",
       "                 review_date  \\\n",
       "0        2023-08-10 17:48:51   \n",
       "1        2023-08-10 17:38:35   \n",
       "2        2023-08-10 17:38:17   \n",
       "3        2023-08-10 17:37:45   \n",
       "4        2023-08-10 17:36:56   \n",
       "...                      ...   \n",
       "1069611  2019-02-20 19:41:25   \n",
       "1069612  2019-01-24 12:13:39   \n",
       "1069613  2019-01-14 16:53:31   \n",
       "1069614  2019-01-06 17:19:59   \n",
       "1069615  2019-01-06 12:34:01   \n",
       "\n",
       "                                        developer_response  \\\n",
       "0                                                      NaN   \n",
       "1                                                      NaN   \n",
       "2                                                      NaN   \n",
       "3                                                      NaN   \n",
       "4                                                      NaN   \n",
       "...                                                    ...   \n",
       "1069611  {'id': 7416266, 'body': \"Hi, this doesn't soun...   \n",
       "1069612  {'id': 7006213, 'body': \"Hi, uber works better...   \n",
       "1069613  {'id': 6859976, 'body': 'Hi Janee, this certai...   \n",
       "1069614                                                NaN   \n",
       "1069615  {'id': 6709611, 'body': 'Hi, this certainly so...   \n",
       "\n",
       "        developer_response_date   appVersion laguage_code country_code  \n",
       "0                           NaN          NaN           en           in  \n",
       "1                           NaN  4.485.10000           en           in  \n",
       "2                           NaN  4.486.10002           en           in  \n",
       "3                           NaN  4.467.10008           en           in  \n",
       "4                           NaN  4.486.10002           en           in  \n",
       "...                         ...          ...          ...          ...  \n",
       "1069611                     NaN          NaN           en           in  \n",
       "1069612                     NaN          NaN           en           in  \n",
       "1069613                     NaN          NaN           en           in  \n",
       "1069614                     NaN          NaN           en           in  \n",
       "1069615                     NaN          NaN           en           in  \n",
       "\n",
       "[1069616 rows x 13 columns]"
      ]
     },
     "execution_count": 4,
     "metadata": {},
     "output_type": "execute_result"
    }
   ],
   "source": [
    "df1"
   ]
  },
  {
   "cell_type": "code",
   "execution_count": 5,
   "id": "5f625879",
   "metadata": {},
   "outputs": [],
   "source": [
    "df2 = pd.read_csv('Ola Customer Reviews.csv', low_memory=False)"
   ]
  },
  {
   "cell_type": "code",
   "execution_count": 6,
   "id": "cb2d92b0",
   "metadata": {},
   "outputs": [
    {
     "data": {
      "text/html": [
       "<div>\n",
       "<style scoped>\n",
       "    .dataframe tbody tr th:only-of-type {\n",
       "        vertical-align: middle;\n",
       "    }\n",
       "\n",
       "    .dataframe tbody tr th {\n",
       "        vertical-align: top;\n",
       "    }\n",
       "\n",
       "    .dataframe thead th {\n",
       "        text-align: right;\n",
       "    }\n",
       "</style>\n",
       "<table border=\"1\" class=\"dataframe\">\n",
       "  <thead>\n",
       "    <tr style=\"text-align: right;\">\n",
       "      <th></th>\n",
       "      <th>source</th>\n",
       "      <th>review_id</th>\n",
       "      <th>user_name</th>\n",
       "      <th>review_title</th>\n",
       "      <th>review_description</th>\n",
       "      <th>rating</th>\n",
       "      <th>thumbs_up</th>\n",
       "      <th>review_date</th>\n",
       "      <th>developer_response</th>\n",
       "      <th>developer_response_date</th>\n",
       "      <th>appVersion</th>\n",
       "      <th>laguage_code</th>\n",
       "      <th>country_code</th>\n",
       "    </tr>\n",
       "  </thead>\n",
       "  <tbody>\n",
       "    <tr>\n",
       "      <th>0</th>\n",
       "      <td>Google Play</td>\n",
       "      <td>fbc7ffc9-5a89-446e-87fd-d69bf4a7f984</td>\n",
       "      <td>Puipuii Ralte</td>\n",
       "      <td>NaN</td>\n",
       "      <td>The map in Ola is so messed up, i have to pay ...</td>\n",
       "      <td>1</td>\n",
       "      <td>0.0</td>\n",
       "      <td>2023-08-10 16:40:50</td>\n",
       "      <td>NaN</td>\n",
       "      <td>NaN</td>\n",
       "      <td>6.3.2</td>\n",
       "      <td>en</td>\n",
       "      <td>in</td>\n",
       "    </tr>\n",
       "    <tr>\n",
       "      <th>1</th>\n",
       "      <td>Google Play</td>\n",
       "      <td>5a0051fb-220a-45b2-ba94-a15a2949218f</td>\n",
       "      <td>Deepak Kumar</td>\n",
       "      <td>NaN</td>\n",
       "      <td>Deepak Kumar.... 🙏🙏🙏🙏🙏]</td>\n",
       "      <td>5</td>\n",
       "      <td>0.0</td>\n",
       "      <td>2023-08-10 16:36:14</td>\n",
       "      <td>NaN</td>\n",
       "      <td>NaN</td>\n",
       "      <td>NaN</td>\n",
       "      <td>en</td>\n",
       "      <td>in</td>\n",
       "    </tr>\n",
       "    <tr>\n",
       "      <th>2</th>\n",
       "      <td>Google Play</td>\n",
       "      <td>71ebf933-b734-474d-bb65-a18c90906ed2</td>\n",
       "      <td>Ahamed Azarudeen</td>\n",
       "      <td>NaN</td>\n",
       "      <td>Such aa irresponsible app more then I waiting ...</td>\n",
       "      <td>1</td>\n",
       "      <td>0.0</td>\n",
       "      <td>2023-08-10 16:29:31</td>\n",
       "      <td>NaN</td>\n",
       "      <td>NaN</td>\n",
       "      <td>6.3.1</td>\n",
       "      <td>en</td>\n",
       "      <td>in</td>\n",
       "    </tr>\n",
       "    <tr>\n",
       "      <th>3</th>\n",
       "      <td>Google Play</td>\n",
       "      <td>e1cc0010-60b3-4126-99c2-e8549088566a</td>\n",
       "      <td>Rahil Syed</td>\n",
       "      <td>NaN</td>\n",
       "      <td>Worst</td>\n",
       "      <td>1</td>\n",
       "      <td>0.0</td>\n",
       "      <td>2023-08-10 15:52:06</td>\n",
       "      <td>NaN</td>\n",
       "      <td>NaN</td>\n",
       "      <td>5.0.4</td>\n",
       "      <td>en</td>\n",
       "      <td>in</td>\n",
       "    </tr>\n",
       "    <tr>\n",
       "      <th>4</th>\n",
       "      <td>Google Play</td>\n",
       "      <td>77cf1be1-b428-4493-ae25-e0f288f79b8f</td>\n",
       "      <td>vin 007</td>\n",
       "      <td>NaN</td>\n",
       "      <td>Too much expensive .. try UBer... They are pro...</td>\n",
       "      <td>1</td>\n",
       "      <td>0.0</td>\n",
       "      <td>2023-08-10 15:51:10</td>\n",
       "      <td>NaN</td>\n",
       "      <td>NaN</td>\n",
       "      <td>NaN</td>\n",
       "      <td>en</td>\n",
       "      <td>in</td>\n",
       "    </tr>\n",
       "    <tr>\n",
       "      <th>...</th>\n",
       "      <td>...</td>\n",
       "      <td>...</td>\n",
       "      <td>...</td>\n",
       "      <td>...</td>\n",
       "      <td>...</td>\n",
       "      <td>...</td>\n",
       "      <td>...</td>\n",
       "      <td>...</td>\n",
       "      <td>...</td>\n",
       "      <td>...</td>\n",
       "      <td>...</td>\n",
       "      <td>...</td>\n",
       "      <td>...</td>\n",
       "    </tr>\n",
       "    <tr>\n",
       "      <th>357693</th>\n",
       "      <td>App Store</td>\n",
       "      <td>575258ed-aec1-47ea-b792-88deb17e4ad7</td>\n",
       "      <td>Jayken17</td>\n",
       "      <td>Can't sign up with App200 code</td>\n",
       "      <td>The app is useless for new users since you can...</td>\n",
       "      <td>1</td>\n",
       "      <td>NaN</td>\n",
       "      <td>2015-03-08 04:33:32</td>\n",
       "      <td>NaN</td>\n",
       "      <td>NaN</td>\n",
       "      <td>NaN</td>\n",
       "      <td>en</td>\n",
       "      <td>in</td>\n",
       "    </tr>\n",
       "    <tr>\n",
       "      <th>357694</th>\n",
       "      <td>App Store</td>\n",
       "      <td>ca91ebc0-92d9-48a6-9c46-7dcad1a0546e</td>\n",
       "      <td>cbarath1986</td>\n",
       "      <td>Worst app n online services</td>\n",
       "      <td>Do not recharge money with ola money.. I have ...</td>\n",
       "      <td>1</td>\n",
       "      <td>NaN</td>\n",
       "      <td>2015-03-02 23:13:22</td>\n",
       "      <td>NaN</td>\n",
       "      <td>NaN</td>\n",
       "      <td>NaN</td>\n",
       "      <td>en</td>\n",
       "      <td>in</td>\n",
       "    </tr>\n",
       "    <tr>\n",
       "      <th>357695</th>\n",
       "      <td>App Store</td>\n",
       "      <td>f7227b64-90aa-4c82-996e-c86d99761831</td>\n",
       "      <td>MaS Mitt</td>\n",
       "      <td>Signup itself is so difficult</td>\n",
       "      <td>The app hangs on signup. Later I get authentic...</td>\n",
       "      <td>2</td>\n",
       "      <td>NaN</td>\n",
       "      <td>2015-03-02 11:52:50</td>\n",
       "      <td>NaN</td>\n",
       "      <td>NaN</td>\n",
       "      <td>NaN</td>\n",
       "      <td>en</td>\n",
       "      <td>in</td>\n",
       "    </tr>\n",
       "    <tr>\n",
       "      <th>357696</th>\n",
       "      <td>App Store</td>\n",
       "      <td>5f14c66e-94cc-4594-a83e-055ab8721ca8</td>\n",
       "      <td>vasantha2</td>\n",
       "      <td>Worst iphone App</td>\n",
       "      <td>one of the worst app for iphone.i was tried mu...</td>\n",
       "      <td>1</td>\n",
       "      <td>NaN</td>\n",
       "      <td>2015-02-17 15:17:12</td>\n",
       "      <td>NaN</td>\n",
       "      <td>NaN</td>\n",
       "      <td>NaN</td>\n",
       "      <td>en</td>\n",
       "      <td>in</td>\n",
       "    </tr>\n",
       "    <tr>\n",
       "      <th>357697</th>\n",
       "      <td>App Store</td>\n",
       "      <td>b4f2a564-e5aa-48d5-bbc0-8b8e2751628e</td>\n",
       "      <td>June Day</td>\n",
       "      <td>Hopeless</td>\n",
       "      <td>This company is hopeless. I waited on hold for...</td>\n",
       "      <td>1</td>\n",
       "      <td>NaN</td>\n",
       "      <td>2014-10-16 08:53:01</td>\n",
       "      <td>NaN</td>\n",
       "      <td>NaN</td>\n",
       "      <td>NaN</td>\n",
       "      <td>en</td>\n",
       "      <td>in</td>\n",
       "    </tr>\n",
       "  </tbody>\n",
       "</table>\n",
       "<p>357698 rows × 13 columns</p>\n",
       "</div>"
      ],
      "text/plain": [
       "             source                             review_id         user_name  \\\n",
       "0       Google Play  fbc7ffc9-5a89-446e-87fd-d69bf4a7f984     Puipuii Ralte   \n",
       "1       Google Play  5a0051fb-220a-45b2-ba94-a15a2949218f      Deepak Kumar   \n",
       "2       Google Play  71ebf933-b734-474d-bb65-a18c90906ed2  Ahamed Azarudeen   \n",
       "3       Google Play  e1cc0010-60b3-4126-99c2-e8549088566a        Rahil Syed   \n",
       "4       Google Play  77cf1be1-b428-4493-ae25-e0f288f79b8f           vin 007   \n",
       "...             ...                                   ...               ...   \n",
       "357693    App Store  575258ed-aec1-47ea-b792-88deb17e4ad7          Jayken17   \n",
       "357694    App Store  ca91ebc0-92d9-48a6-9c46-7dcad1a0546e       cbarath1986   \n",
       "357695    App Store  f7227b64-90aa-4c82-996e-c86d99761831          MaS Mitt   \n",
       "357696    App Store  5f14c66e-94cc-4594-a83e-055ab8721ca8         vasantha2   \n",
       "357697    App Store  b4f2a564-e5aa-48d5-bbc0-8b8e2751628e          June Day   \n",
       "\n",
       "                          review_title  \\\n",
       "0                                  NaN   \n",
       "1                                  NaN   \n",
       "2                                  NaN   \n",
       "3                                  NaN   \n",
       "4                                  NaN   \n",
       "...                                ...   \n",
       "357693  Can't sign up with App200 code   \n",
       "357694     Worst app n online services   \n",
       "357695   Signup itself is so difficult   \n",
       "357696                Worst iphone App   \n",
       "357697                        Hopeless   \n",
       "\n",
       "                                       review_description  rating  thumbs_up  \\\n",
       "0       The map in Ola is so messed up, i have to pay ...       1        0.0   \n",
       "1                                 Deepak Kumar.... 🙏🙏🙏🙏🙏]       5        0.0   \n",
       "2       Such aa irresponsible app more then I waiting ...       1        0.0   \n",
       "3                                                   Worst       1        0.0   \n",
       "4       Too much expensive .. try UBer... They are pro...       1        0.0   \n",
       "...                                                   ...     ...        ...   \n",
       "357693  The app is useless for new users since you can...       1        NaN   \n",
       "357694  Do not recharge money with ola money.. I have ...       1        NaN   \n",
       "357695  The app hangs on signup. Later I get authentic...       2        NaN   \n",
       "357696  one of the worst app for iphone.i was tried mu...       1        NaN   \n",
       "357697  This company is hopeless. I waited on hold for...       1        NaN   \n",
       "\n",
       "                review_date developer_response developer_response_date  \\\n",
       "0       2023-08-10 16:40:50                NaN                     NaN   \n",
       "1       2023-08-10 16:36:14                NaN                     NaN   \n",
       "2       2023-08-10 16:29:31                NaN                     NaN   \n",
       "3       2023-08-10 15:52:06                NaN                     NaN   \n",
       "4       2023-08-10 15:51:10                NaN                     NaN   \n",
       "...                     ...                ...                     ...   \n",
       "357693  2015-03-08 04:33:32                NaN                     NaN   \n",
       "357694  2015-03-02 23:13:22                NaN                     NaN   \n",
       "357695  2015-03-02 11:52:50                NaN                     NaN   \n",
       "357696  2015-02-17 15:17:12                NaN                     NaN   \n",
       "357697  2014-10-16 08:53:01                NaN                     NaN   \n",
       "\n",
       "       appVersion laguage_code country_code  \n",
       "0           6.3.2           en           in  \n",
       "1             NaN           en           in  \n",
       "2           6.3.1           en           in  \n",
       "3           5.0.4           en           in  \n",
       "4             NaN           en           in  \n",
       "...           ...          ...          ...  \n",
       "357693        NaN           en           in  \n",
       "357694        NaN           en           in  \n",
       "357695        NaN           en           in  \n",
       "357696        NaN           en           in  \n",
       "357697        NaN           en           in  \n",
       "\n",
       "[357698 rows x 13 columns]"
      ]
     },
     "execution_count": 6,
     "metadata": {},
     "output_type": "execute_result"
    }
   ],
   "source": [
    "df2"
   ]
  },
  {
   "cell_type": "code",
   "execution_count": 7,
   "id": "a74fae76",
   "metadata": {},
   "outputs": [
    {
     "data": {
      "text/plain": [
       "Index(['source', 'review_id', 'user_name', 'review_title',\n",
       "       'review_description', 'rating', 'thumbs_up', 'review_date',\n",
       "       'developer_response', 'developer_response_date', 'appVersion',\n",
       "       'laguage_code', 'country_code'],\n",
       "      dtype='object')"
      ]
     },
     "execution_count": 7,
     "metadata": {},
     "output_type": "execute_result"
    }
   ],
   "source": [
    "df1.columns\n"
   ]
  },
  {
   "cell_type": "code",
   "execution_count": 8,
   "id": "fa7337da",
   "metadata": {},
   "outputs": [
    {
     "data": {
      "text/plain": [
       "13"
      ]
     },
     "execution_count": 8,
     "metadata": {},
     "output_type": "execute_result"
    }
   ],
   "source": [
    "len(df1.columns)"
   ]
  },
  {
   "cell_type": "markdown",
   "id": "a5471970",
   "metadata": {},
   "source": [
    "# INSIGHTS \n",
    "\n",
    "1.1069501 have written there mix review/ comment on the app\n",
    "2. Most rating is either 5 star or 1 star\n",
    "3. most frequnt tim eused - from 2pm to 5 pm as many poeple go for work and to travel in this time\n",
    "4. most frequestn day of the week - from tuesday is the lowest and Saturday srecorded the highest this suggest that people use the for on weekends night \n",
    "2Pm is the highest recored time on g=the hoghest day pf poeple using the app to book th ecar\n",
    "5 . most frequnt month- Sepyember and october are highest month(2019-23)\n",
    "6 . Almost 99% proportion of user is from Play Store"
   ]
  },
  {
   "cell_type": "code",
   "execution_count": 10,
   "id": "cc11e82f",
   "metadata": {},
   "outputs": [
    {
     "data": {
      "text/plain": [
       "1069616"
      ]
     },
     "execution_count": 10,
     "metadata": {},
     "output_type": "execute_result"
    }
   ],
   "source": [
    "len(df1)"
   ]
  },
  {
   "cell_type": "code",
   "execution_count": 11,
   "id": "a45ac88e",
   "metadata": {},
   "outputs": [
    {
     "name": "stdout",
     "output_type": "stream",
     "text": [
      "<class 'pandas.core.frame.DataFrame'>\n",
      "RangeIndex: 1069616 entries, 0 to 1069615\n",
      "Data columns (total 13 columns):\n",
      " #   Column                   Non-Null Count    Dtype  \n",
      "---  ------                   --------------    -----  \n",
      " 0   source                   1069616 non-null  object \n",
      " 1   review_id                1069616 non-null  object \n",
      " 2   user_name                1069615 non-null  object \n",
      " 3   review_title             2180 non-null     object \n",
      " 4   review_description       1069501 non-null  object \n",
      " 5   rating                   1069616 non-null  int64  \n",
      " 6   thumbs_up                1067436 non-null  float64\n",
      " 7   review_date              1069616 non-null  object \n",
      " 8   developer_response       198264 non-null   object \n",
      " 9   developer_response_date  197278 non-null   object \n",
      " 10  appVersion               828068 non-null   object \n",
      " 11  laguage_code             1069616 non-null  object \n",
      " 12  country_code             1069616 non-null  object \n",
      "dtypes: float64(1), int64(1), object(11)\n",
      "memory usage: 106.1+ MB\n"
     ]
    }
   ],
   "source": [
    "df1.info()\n"
   ]
  },
  {
   "cell_type": "code",
   "execution_count": 12,
   "id": "501bc7e3",
   "metadata": {},
   "outputs": [
    {
     "data": {
      "text/html": [
       "<div>\n",
       "<style scoped>\n",
       "    .dataframe tbody tr th:only-of-type {\n",
       "        vertical-align: middle;\n",
       "    }\n",
       "\n",
       "    .dataframe tbody tr th {\n",
       "        vertical-align: top;\n",
       "    }\n",
       "\n",
       "    .dataframe thead th {\n",
       "        text-align: right;\n",
       "    }\n",
       "</style>\n",
       "<table border=\"1\" class=\"dataframe\">\n",
       "  <thead>\n",
       "    <tr style=\"text-align: right;\">\n",
       "      <th></th>\n",
       "      <th>rating</th>\n",
       "      <th>thumbs_up</th>\n",
       "    </tr>\n",
       "  </thead>\n",
       "  <tbody>\n",
       "    <tr>\n",
       "      <th>count</th>\n",
       "      <td>1.069616e+06</td>\n",
       "      <td>1.067436e+06</td>\n",
       "    </tr>\n",
       "    <tr>\n",
       "      <th>mean</th>\n",
       "      <td>3.650441e+00</td>\n",
       "      <td>8.954054e-01</td>\n",
       "    </tr>\n",
       "    <tr>\n",
       "      <th>std</th>\n",
       "      <td>1.743725e+00</td>\n",
       "      <td>2.042451e+01</td>\n",
       "    </tr>\n",
       "    <tr>\n",
       "      <th>min</th>\n",
       "      <td>1.000000e+00</td>\n",
       "      <td>0.000000e+00</td>\n",
       "    </tr>\n",
       "    <tr>\n",
       "      <th>25%</th>\n",
       "      <td>1.000000e+00</td>\n",
       "      <td>0.000000e+00</td>\n",
       "    </tr>\n",
       "    <tr>\n",
       "      <th>50%</th>\n",
       "      <td>5.000000e+00</td>\n",
       "      <td>0.000000e+00</td>\n",
       "    </tr>\n",
       "    <tr>\n",
       "      <th>75%</th>\n",
       "      <td>5.000000e+00</td>\n",
       "      <td>0.000000e+00</td>\n",
       "    </tr>\n",
       "    <tr>\n",
       "      <th>max</th>\n",
       "      <td>5.000000e+00</td>\n",
       "      <td>5.572000e+03</td>\n",
       "    </tr>\n",
       "  </tbody>\n",
       "</table>\n",
       "</div>"
      ],
      "text/plain": [
       "             rating     thumbs_up\n",
       "count  1.069616e+06  1.067436e+06\n",
       "mean   3.650441e+00  8.954054e-01\n",
       "std    1.743725e+00  2.042451e+01\n",
       "min    1.000000e+00  0.000000e+00\n",
       "25%    1.000000e+00  0.000000e+00\n",
       "50%    5.000000e+00  0.000000e+00\n",
       "75%    5.000000e+00  0.000000e+00\n",
       "max    5.000000e+00  5.572000e+03"
      ]
     },
     "execution_count": 12,
     "metadata": {},
     "output_type": "execute_result"
    }
   ],
   "source": [
    "\n",
    "df1.describe()"
   ]
  },
  {
   "cell_type": "code",
   "execution_count": 13,
   "id": "20fd1c5f",
   "metadata": {},
   "outputs": [
    {
     "data": {
      "text/html": [
       "<div>\n",
       "<style scoped>\n",
       "    .dataframe tbody tr th:only-of-type {\n",
       "        vertical-align: middle;\n",
       "    }\n",
       "\n",
       "    .dataframe tbody tr th {\n",
       "        vertical-align: top;\n",
       "    }\n",
       "\n",
       "    .dataframe thead th {\n",
       "        text-align: right;\n",
       "    }\n",
       "</style>\n",
       "<table border=\"1\" class=\"dataframe\">\n",
       "  <thead>\n",
       "    <tr style=\"text-align: right;\">\n",
       "      <th></th>\n",
       "      <th>source</th>\n",
       "      <th>review_id</th>\n",
       "      <th>user_name</th>\n",
       "      <th>review_title</th>\n",
       "      <th>review_description</th>\n",
       "      <th>rating</th>\n",
       "      <th>thumbs_up</th>\n",
       "      <th>review_date</th>\n",
       "      <th>developer_response</th>\n",
       "      <th>developer_response_date</th>\n",
       "      <th>appVersion</th>\n",
       "      <th>laguage_code</th>\n",
       "      <th>country_code</th>\n",
       "    </tr>\n",
       "  </thead>\n",
       "  <tbody>\n",
       "    <tr>\n",
       "      <th>0</th>\n",
       "      <td>False</td>\n",
       "      <td>False</td>\n",
       "      <td>False</td>\n",
       "      <td>True</td>\n",
       "      <td>False</td>\n",
       "      <td>False</td>\n",
       "      <td>False</td>\n",
       "      <td>False</td>\n",
       "      <td>True</td>\n",
       "      <td>True</td>\n",
       "      <td>True</td>\n",
       "      <td>False</td>\n",
       "      <td>False</td>\n",
       "    </tr>\n",
       "    <tr>\n",
       "      <th>1</th>\n",
       "      <td>False</td>\n",
       "      <td>False</td>\n",
       "      <td>False</td>\n",
       "      <td>True</td>\n",
       "      <td>False</td>\n",
       "      <td>False</td>\n",
       "      <td>False</td>\n",
       "      <td>False</td>\n",
       "      <td>True</td>\n",
       "      <td>True</td>\n",
       "      <td>False</td>\n",
       "      <td>False</td>\n",
       "      <td>False</td>\n",
       "    </tr>\n",
       "    <tr>\n",
       "      <th>2</th>\n",
       "      <td>False</td>\n",
       "      <td>False</td>\n",
       "      <td>False</td>\n",
       "      <td>True</td>\n",
       "      <td>False</td>\n",
       "      <td>False</td>\n",
       "      <td>False</td>\n",
       "      <td>False</td>\n",
       "      <td>True</td>\n",
       "      <td>True</td>\n",
       "      <td>False</td>\n",
       "      <td>False</td>\n",
       "      <td>False</td>\n",
       "    </tr>\n",
       "    <tr>\n",
       "      <th>3</th>\n",
       "      <td>False</td>\n",
       "      <td>False</td>\n",
       "      <td>False</td>\n",
       "      <td>True</td>\n",
       "      <td>False</td>\n",
       "      <td>False</td>\n",
       "      <td>False</td>\n",
       "      <td>False</td>\n",
       "      <td>True</td>\n",
       "      <td>True</td>\n",
       "      <td>False</td>\n",
       "      <td>False</td>\n",
       "      <td>False</td>\n",
       "    </tr>\n",
       "    <tr>\n",
       "      <th>4</th>\n",
       "      <td>False</td>\n",
       "      <td>False</td>\n",
       "      <td>False</td>\n",
       "      <td>True</td>\n",
       "      <td>False</td>\n",
       "      <td>False</td>\n",
       "      <td>False</td>\n",
       "      <td>False</td>\n",
       "      <td>True</td>\n",
       "      <td>True</td>\n",
       "      <td>False</td>\n",
       "      <td>False</td>\n",
       "      <td>False</td>\n",
       "    </tr>\n",
       "    <tr>\n",
       "      <th>...</th>\n",
       "      <td>...</td>\n",
       "      <td>...</td>\n",
       "      <td>...</td>\n",
       "      <td>...</td>\n",
       "      <td>...</td>\n",
       "      <td>...</td>\n",
       "      <td>...</td>\n",
       "      <td>...</td>\n",
       "      <td>...</td>\n",
       "      <td>...</td>\n",
       "      <td>...</td>\n",
       "      <td>...</td>\n",
       "      <td>...</td>\n",
       "    </tr>\n",
       "    <tr>\n",
       "      <th>1069611</th>\n",
       "      <td>False</td>\n",
       "      <td>False</td>\n",
       "      <td>False</td>\n",
       "      <td>False</td>\n",
       "      <td>False</td>\n",
       "      <td>False</td>\n",
       "      <td>True</td>\n",
       "      <td>False</td>\n",
       "      <td>False</td>\n",
       "      <td>True</td>\n",
       "      <td>True</td>\n",
       "      <td>False</td>\n",
       "      <td>False</td>\n",
       "    </tr>\n",
       "    <tr>\n",
       "      <th>1069612</th>\n",
       "      <td>False</td>\n",
       "      <td>False</td>\n",
       "      <td>False</td>\n",
       "      <td>False</td>\n",
       "      <td>False</td>\n",
       "      <td>False</td>\n",
       "      <td>True</td>\n",
       "      <td>False</td>\n",
       "      <td>False</td>\n",
       "      <td>True</td>\n",
       "      <td>True</td>\n",
       "      <td>False</td>\n",
       "      <td>False</td>\n",
       "    </tr>\n",
       "    <tr>\n",
       "      <th>1069613</th>\n",
       "      <td>False</td>\n",
       "      <td>False</td>\n",
       "      <td>False</td>\n",
       "      <td>False</td>\n",
       "      <td>False</td>\n",
       "      <td>False</td>\n",
       "      <td>True</td>\n",
       "      <td>False</td>\n",
       "      <td>False</td>\n",
       "      <td>True</td>\n",
       "      <td>True</td>\n",
       "      <td>False</td>\n",
       "      <td>False</td>\n",
       "    </tr>\n",
       "    <tr>\n",
       "      <th>1069614</th>\n",
       "      <td>False</td>\n",
       "      <td>False</td>\n",
       "      <td>False</td>\n",
       "      <td>False</td>\n",
       "      <td>False</td>\n",
       "      <td>False</td>\n",
       "      <td>True</td>\n",
       "      <td>False</td>\n",
       "      <td>True</td>\n",
       "      <td>True</td>\n",
       "      <td>True</td>\n",
       "      <td>False</td>\n",
       "      <td>False</td>\n",
       "    </tr>\n",
       "    <tr>\n",
       "      <th>1069615</th>\n",
       "      <td>False</td>\n",
       "      <td>False</td>\n",
       "      <td>False</td>\n",
       "      <td>False</td>\n",
       "      <td>False</td>\n",
       "      <td>False</td>\n",
       "      <td>True</td>\n",
       "      <td>False</td>\n",
       "      <td>False</td>\n",
       "      <td>True</td>\n",
       "      <td>True</td>\n",
       "      <td>False</td>\n",
       "      <td>False</td>\n",
       "    </tr>\n",
       "  </tbody>\n",
       "</table>\n",
       "<p>1069616 rows × 13 columns</p>\n",
       "</div>"
      ],
      "text/plain": [
       "         source  review_id  user_name  review_title  review_description  \\\n",
       "0         False      False      False          True               False   \n",
       "1         False      False      False          True               False   \n",
       "2         False      False      False          True               False   \n",
       "3         False      False      False          True               False   \n",
       "4         False      False      False          True               False   \n",
       "...         ...        ...        ...           ...                 ...   \n",
       "1069611   False      False      False         False               False   \n",
       "1069612   False      False      False         False               False   \n",
       "1069613   False      False      False         False               False   \n",
       "1069614   False      False      False         False               False   \n",
       "1069615   False      False      False         False               False   \n",
       "\n",
       "         rating  thumbs_up  review_date  developer_response  \\\n",
       "0         False      False        False                True   \n",
       "1         False      False        False                True   \n",
       "2         False      False        False                True   \n",
       "3         False      False        False                True   \n",
       "4         False      False        False                True   \n",
       "...         ...        ...          ...                 ...   \n",
       "1069611   False       True        False               False   \n",
       "1069612   False       True        False               False   \n",
       "1069613   False       True        False               False   \n",
       "1069614   False       True        False                True   \n",
       "1069615   False       True        False               False   \n",
       "\n",
       "         developer_response_date  appVersion  laguage_code  country_code  \n",
       "0                           True        True         False         False  \n",
       "1                           True       False         False         False  \n",
       "2                           True       False         False         False  \n",
       "3                           True       False         False         False  \n",
       "4                           True       False         False         False  \n",
       "...                          ...         ...           ...           ...  \n",
       "1069611                     True        True         False         False  \n",
       "1069612                     True        True         False         False  \n",
       "1069613                     True        True         False         False  \n",
       "1069614                     True        True         False         False  \n",
       "1069615                     True        True         False         False  \n",
       "\n",
       "[1069616 rows x 13 columns]"
      ]
     },
     "execution_count": 13,
     "metadata": {},
     "output_type": "execute_result"
    }
   ],
   "source": [
    "df1.isna()"
   ]
  },
  {
   "cell_type": "code",
   "execution_count": 14,
   "id": "8ac5970c",
   "metadata": {},
   "outputs": [
    {
     "data": {
      "text/plain": [
       "source                           0\n",
       "review_id                        0\n",
       "user_name                        1\n",
       "review_title               1067436\n",
       "review_description             115\n",
       "rating                           0\n",
       "thumbs_up                     2180\n",
       "review_date                      0\n",
       "developer_response          871352\n",
       "developer_response_date     872338\n",
       "appVersion                  241548\n",
       "laguage_code                     0\n",
       "country_code                     0\n",
       "dtype: int64"
      ]
     },
     "execution_count": 14,
     "metadata": {},
     "output_type": "execute_result"
    }
   ],
   "source": [
    "df1.isna().sum()"
   ]
  },
  {
   "cell_type": "code",
   "execution_count": 15,
   "id": "1d4ca756",
   "metadata": {},
   "outputs": [
    {
     "data": {
      "text/plain": [
       "review_title               9.979619e-01\n",
       "developer_response_date    8.155618e-01\n",
       "developer_response         8.146400e-01\n",
       "appVersion                 2.258268e-01\n",
       "thumbs_up                  2.038115e-03\n",
       "review_description         1.075152e-04\n",
       "user_name                  9.349150e-07\n",
       "source                     0.000000e+00\n",
       "review_id                  0.000000e+00\n",
       "rating                     0.000000e+00\n",
       "review_date                0.000000e+00\n",
       "laguage_code               0.000000e+00\n",
       "country_code               0.000000e+00\n",
       "dtype: float64"
      ]
     },
     "execution_count": 15,
     "metadata": {},
     "output_type": "execute_result"
    }
   ],
   "source": [
    "#perc of mii value per column\n",
    "missing_percentages = df1.isna().sum().sort_values(ascending= False)/ len(df1)\n",
    "missing_percentages"
   ]
  },
  {
   "cell_type": "code",
   "execution_count": 16,
   "id": "8e2d3666",
   "metadata": {},
   "outputs": [
    {
     "data": {
      "text/plain": [
       "pandas.core.series.Series"
      ]
     },
     "execution_count": 16,
     "metadata": {},
     "output_type": "execute_result"
    }
   ],
   "source": [
    "type(missing_percentages)"
   ]
  },
  {
   "cell_type": "code",
   "execution_count": 47,
   "id": "14268b68",
   "metadata": {},
   "outputs": [
    {
     "data": {
      "text/plain": [
       "<AxesSubplot: >"
      ]
     },
     "execution_count": 47,
     "metadata": {},
     "output_type": "execute_result"
    },
    {
     "data": {
      "image/png": "[encoded data removed]",
      "text/plain": [
       "<Figure size 432x288 with 1 Axes>"
      ]
     },
     "metadata": {},
     "output_type": "display_data"
    }
   ],
   "source": [
    "missing_percentages.plot(kind= 'barh')"
   ]
  },
  {
   "cell_type": "code",
   "execution_count": 18,
   "id": "f80483c3",
   "metadata": {},
   "outputs": [
    {
     "data": {
      "text/plain": [
       "<AxesSubplot: >"
      ]
     },
     "execution_count": 18,
     "metadata": {},
     "output_type": "execute_result"
    },
    {
     "data": {
      "image/png": "[encoded data removed]",
      "text/plain": [
       "<Figure size 432x288 with 1 Axes>"
      ]
     },
     "metadata": {
      "needs_background": "light"
     },
     "output_type": "display_data"
    }
   ],
   "source": [
    "missing_percentages[missing_percentages!=0].plot(kind='barh')\n"
   ]
  },
  {
   "cell_type": "markdown",
   "id": "31e7e8e7",
   "metadata": {},
   "source": [
    "#removing useless columns "
   ]
  },
  {
   "cell_type": "markdown",
   "id": "12600f89",
   "metadata": {},
   "source": [
    "Looking for important \n",
    "1.devloper_response\n",
    "2.review title\n",
    "3.developer_response_data\n",
    "4.review id \n",
    "5 rating "
   ]
  },
  {
   "cell_type": "code",
   "execution_count": 48,
   "id": "55d1a7a3",
   "metadata": {},
   "outputs": [
    {
     "data": {
      "text/plain": [
       "0                                                        NaN\n",
       "1                                                        NaN\n",
       "2                                                        NaN\n",
       "3                                                        NaN\n",
       "4                                                        NaN\n",
       "                                 ...                        \n",
       "1069611    {'id': 7416266, 'body': \"Hi, this doesn't soun...\n",
       "1069612    {'id': 7006213, 'body': \"Hi, uber works better...\n",
       "1069613    {'id': 6859976, 'body': 'Hi Janee, this certai...\n",
       "1069614                                                  NaN\n",
       "1069615    {'id': 6709611, 'body': 'Hi, this certainly so...\n",
       "Name: developer_response, Length: 1069616, dtype: object"
      ]
     },
     "execution_count": 48,
     "metadata": {},
     "output_type": "execute_result"
    }
   ],
   "source": [
    "df1.developer_response  \n"
   ]
  },
  {
   "cell_type": "code",
   "execution_count": 49,
   "id": "fe339914",
   "metadata": {},
   "outputs": [
    {
     "data": {
      "text/plain": [
       "0          18d6584c-d0e9-4833-a744-f607058aee97\n",
       "1          50a08f18-cece-4ddf-b617-028844c8aa28\n",
       "2          b0d8e75a-80a7-4dcd-abaf-72b046dbeeb7\n",
       "3          502702a9-25ed-4373-a96c-7fa1f06caacd\n",
       "4          f47a3fb6-23db-49bd-9e63-f33c8d724d07\n",
       "                           ...                 \n",
       "1069611    015547c9-1d97-4b92-8206-ef47a540b70b\n",
       "1069612    e1125a24-a804-419e-8aa2-039e3f380d25\n",
       "1069613    132aac5d-10df-4207-a71d-01d81a4efde0\n",
       "1069614    99864769-f3f9-49fc-841e-3230a72fe18e\n",
       "1069615    93f3188d-db2e-4532-bde3-6ec432558b5b\n",
       "Name: review_id, Length: 1069616, dtype: object"
      ]
     },
     "execution_count": 49,
     "metadata": {},
     "output_type": "execute_result"
    }
   ],
   "source": [
    "df1.review_id\n"
   ]
  },
  {
   "cell_type": "code",
   "execution_count": 50,
   "id": "f6252993",
   "metadata": {},
   "outputs": [
    {
     "data": {
      "text/plain": [
       "5"
      ]
     },
     "execution_count": 50,
     "metadata": {},
     "output_type": "execute_result"
    }
   ],
   "source": [
    "rating=df1.rating.unique()\n",
    "len(rating)"
   ]
  },
  {
   "cell_type": "code",
   "execution_count": 51,
   "id": "e5672fa5",
   "metadata": {},
   "outputs": [
    {
     "data": {
      "text/plain": [
       "5    611133\n",
       "1    283895\n",
       "4     82953\n",
       "3     49928\n",
       "2     41707\n",
       "Name: rating, dtype: int64"
      ]
     },
     "execution_count": 51,
     "metadata": {},
     "output_type": "execute_result"
    }
   ],
   "source": [
    "rating_count = df1.rating.value_counts()\n",
    "rating_count"
   ]
  },
  {
   "cell_type": "code",
   "execution_count": 23,
   "id": "8ed36f42",
   "metadata": {},
   "outputs": [
    {
     "name": "stderr",
     "output_type": "stream",
     "text": [
      "C:\\Users\\prateek\\AppData\\Local\\Temp\\ipykernel_2828\\36498723.py:1: FutureWarning: The behavior of `series[i:j]` with an integer-dtype index is deprecated. In a future version, this will be treated as *label-based* indexing, consistent with e.g. `series[i]` lookups. To retain the old behavior, use `series.iloc[i:j]`. To get the future behavior, use `series.loc[i:j]`.\n",
      "  rating_count[:2]\n"
     ]
    },
    {
     "data": {
      "text/plain": [
       "5    611133\n",
       "1    283895\n",
       "Name: rating, dtype: int64"
      ]
     },
     "execution_count": 23,
     "metadata": {},
     "output_type": "execute_result"
    }
   ],
   "source": [
    "rating_count[:2]"
   ]
  },
  {
   "cell_type": "code",
   "execution_count": 52,
   "id": "aab122e1",
   "metadata": {},
   "outputs": [
    {
     "data": {
      "text/plain": [
       "False"
      ]
     },
     "execution_count": 52,
     "metadata": {},
     "output_type": "execute_result"
    }
   ],
   "source": [
    "'3.5' in df1.rating"
   ]
  },
  {
   "cell_type": "code",
   "execution_count": 53,
   "id": "8ba775c5",
   "metadata": {},
   "outputs": [
    {
     "data": {
      "text/plain": [
       "<AxesSubplot: >"
      ]
     },
     "execution_count": 53,
     "metadata": {},
     "output_type": "execute_result"
    },
    {
     "data": {
      "image/png": "[encoded data removed]",
      "text/plain": [
       "<Figure size 432x288 with 1 Axes>"
      ]
     },
     "metadata": {},
     "output_type": "display_data"
    }
   ],
   "source": [
    "rating_count.plot(kind='barh')"
   ]
  },
  {
   "cell_type": "code",
   "execution_count": 54,
   "id": "21dea1c9",
   "metadata": {},
   "outputs": [],
   "source": [
    "import seaborn as sns \n",
    "sns.set_style(\"darkgrid\")"
   ]
  },
  {
   "cell_type": "code",
   "execution_count": 55,
   "id": "53e1463e",
   "metadata": {},
   "outputs": [
    {
     "data": {
      "text/plain": [
       "<seaborn.axisgrid.FacetGrid at 0x21bb0a03eb0>"
      ]
     },
     "execution_count": 55,
     "metadata": {},
     "output_type": "execute_result"
    },
    {
     "data": {
      "image/png": "[encoded data removed]",
      "text/plain": [
       "<Figure size 360x360 with 1 Axes>"
      ]
     },
     "metadata": {},
     "output_type": "display_data"
    }
   ],
   "source": [
    "sns.displot(rating/5)"
   ]
  },
  {
   "cell_type": "code",
   "execution_count": 56,
   "id": "9969790f",
   "metadata": {},
   "outputs": [
    {
     "data": {
      "text/plain": [
       "<AxesSubplot: ylabel='Count'>"
      ]
     },
     "execution_count": 56,
     "metadata": {},
     "output_type": "execute_result"
    },
    {
     "data": {
      "image/png": "[encoded data removed]",
      "text/plain": [
       "<Figure size 432x288 with 1 Axes>"
      ]
     },
     "metadata": {},
     "output_type": "display_data"
    }
   ],
   "source": [
    "sns.histplot(rating)"
   ]
  },
  {
   "cell_type": "code",
   "execution_count": null,
   "id": "7cc2ad58",
   "metadata": {},
   "outputs": [],
   "source": [
    "        "
   ]
  },
  {
   "cell_type": "code",
   "execution_count": 57,
   "id": "19bf7121",
   "metadata": {},
   "outputs": [
    {
     "data": {
      "text/plain": [
       "1    283895\n",
       "4     82953\n",
       "Name: rating, dtype: int64"
      ]
     },
     "execution_count": 57,
     "metadata": {},
     "output_type": "execute_result"
    }
   ],
   "source": [
    "high_rating =rating_count[rating>3]\n",
    "high_rating"
   ]
  },
  {
   "cell_type": "code",
   "execution_count": 58,
   "id": "8e071b5d",
   "metadata": {},
   "outputs": [
    {
     "data": {
      "text/plain": [
       "5    611133\n",
       "3     49928\n",
       "Name: rating, dtype: int64"
      ]
     },
     "execution_count": 58,
     "metadata": {},
     "output_type": "execute_result"
    }
   ],
   "source": [
    "low_rating= rating_count[rating<3]\n",
    "low_rating"
   ]
  },
  {
   "cell_type": "code",
   "execution_count": 59,
   "id": "c0069c9b",
   "metadata": {},
   "outputs": [
    {
     "data": {
      "text/plain": [
       "<AxesSubplot: ylabel='Count'>"
      ]
     },
     "execution_count": 59,
     "metadata": {},
     "output_type": "execute_result"
    },
    {
     "data": {
      "image/png": "[encoded data removed]",
      "text/plain": [
       "<Figure size 432x288 with 1 Axes>"
      ]
     },
     "metadata": {},
     "output_type": "display_data"
    }
   ],
   "source": [
    "sns.histplot(rating,log_scale= True, )"
   ]
  },
  {
   "cell_type": "code",
   "execution_count": 60,
   "id": "0d09b047",
   "metadata": {},
   "outputs": [
    {
     "data": {
      "text/plain": [
       "array([1], dtype=int64)"
      ]
     },
     "execution_count": 60,
     "metadata": {},
     "output_type": "execute_result"
    }
   ],
   "source": [
    "rating[rating==1]"
   ]
  },
  {
   "cell_type": "code",
   "execution_count": null,
   "id": "10e674ab",
   "metadata": {},
   "outputs": [],
   "source": []
  },
  {
   "cell_type": "code",
   "execution_count": 61,
   "id": "b3357f6e",
   "metadata": {},
   "outputs": [
    {
     "data": {
      "text/plain": [
       "0          2023-08-10 17:48:51\n",
       "1          2023-08-10 17:38:35\n",
       "2          2023-08-10 17:38:17\n",
       "3          2023-08-10 17:37:45\n",
       "4          2023-08-10 17:36:56\n",
       "                  ...         \n",
       "1069611    2019-02-20 19:41:25\n",
       "1069612    2019-01-24 12:13:39\n",
       "1069613    2019-01-14 16:53:31\n",
       "1069614    2019-01-06 17:19:59\n",
       "1069615    2019-01-06 12:34:01\n",
       "Name: review_date, Length: 1069616, dtype: object"
      ]
     },
     "execution_count": 61,
     "metadata": {},
     "output_type": "execute_result"
    }
   ],
   "source": [
    "df1.review_date"
   ]
  },
  {
   "cell_type": "code",
   "execution_count": 62,
   "id": "bf14beb0",
   "metadata": {},
   "outputs": [
    {
     "data": {
      "text/plain": [
       "'2023-08-10 17:48:51'"
      ]
     },
     "execution_count": 62,
     "metadata": {},
     "output_type": "execute_result"
    }
   ],
   "source": [
    "df1.review_date[0]\n",
    "    "
   ]
  },
  {
   "cell_type": "code",
   "execution_count": 63,
   "id": "dc301077",
   "metadata": {},
   "outputs": [
    {
     "data": {
      "text/plain": [
       "Timestamp('2023-08-10 17:48:51')"
      ]
     },
     "execution_count": 63,
     "metadata": {},
     "output_type": "execute_result"
    }
   ],
   "source": [
    "review_date= pd.to_datetime(df1.review_date)\n",
    "review_date[0]"
   ]
  },
  {
   "cell_type": "code",
   "execution_count": 64,
   "id": "ad5604cc",
   "metadata": {},
   "outputs": [
    {
     "data": {
      "text/plain": [
       "<AxesSubplot: xlabel='review_date', ylabel='Count'>"
      ]
     },
     "execution_count": 64,
     "metadata": {},
     "output_type": "execute_result"
    },
    {
     "data": {
      "image/png": "[encoded data removed]",
      "text/plain": [
       "<Figure size 432x288 with 1 Axes>"
      ]
     },
     "metadata": {},
     "output_type": "display_data"
    }
   ],
   "source": [
    "sns.histplot(review_date.dt.hour)"
   ]
  },
  {
   "cell_type": "code",
   "execution_count": 65,
   "id": "e9aca76b",
   "metadata": {},
   "outputs": [
    {
     "ename": "AttributeError",
     "evalue": "Rectangle.set() got an unexpected keyword argument 'norm_hist'",
     "output_type": "error",
     "traceback": [
      "\u001b[1;31m---------------------------------------------------------------------------\u001b[0m",
      "\u001b[1;31mAttributeError\u001b[0m                            Traceback (most recent call last)",
      "Input \u001b[1;32mIn [65]\u001b[0m, in \u001b[0;36m<cell line: 1>\u001b[1;34m()\u001b[0m\n\u001b[1;32m----> 1\u001b[0m \u001b[43msns\u001b[49m\u001b[38;5;241;43m.\u001b[39;49m\u001b[43mdisplot\u001b[49m\u001b[43m(\u001b[49m\u001b[43mreview_date\u001b[49m\u001b[38;5;241;43m.\u001b[39;49m\u001b[43mdt\u001b[49m\u001b[38;5;241;43m.\u001b[39;49m\u001b[43mhour\u001b[49m\u001b[43m,\u001b[49m\u001b[43m \u001b[49m\u001b[43mbins\u001b[49m\u001b[43m \u001b[49m\u001b[38;5;241;43m=\u001b[39;49m\u001b[43m \u001b[49m\u001b[38;5;241;43m24\u001b[39;49m\u001b[43m,\u001b[49m\u001b[43m \u001b[49m\u001b[43mkde\u001b[49m\u001b[38;5;241;43m=\u001b[39;49m\u001b[43m \u001b[49m\u001b[38;5;28;43;01mFalse\u001b[39;49;00m\u001b[43m \u001b[49m\u001b[43m,\u001b[49m\u001b[43mnorm_hist\u001b[49m\u001b[38;5;241;43m=\u001b[39;49m\u001b[38;5;28;43;01mTrue\u001b[39;49;00m\u001b[43m)\u001b[49m\n",
      "File \u001b[1;32m~\\AppData\\Local\\Programs\\Python\\Python310\\lib\\site-packages\\seaborn\\distributions.py:2210\u001b[0m, in \u001b[0;36mdisplot\u001b[1;34m(data, x, y, hue, row, col, weights, kind, rug, rug_kws, log_scale, legend, palette, hue_order, hue_norm, color, col_wrap, row_order, col_order, height, aspect, facet_kws, **kwargs)\u001b[0m\n\u001b[0;32m   2207\u001b[0m \u001b[38;5;28;01mif\u001b[39;00m p\u001b[38;5;241m.\u001b[39munivariate:\n\u001b[0;32m   2209\u001b[0m     _assign_default_kwargs(hist_kws, p\u001b[38;5;241m.\u001b[39mplot_univariate_histogram, histplot)\n\u001b[1;32m-> 2210\u001b[0m     p\u001b[38;5;241m.\u001b[39mplot_univariate_histogram(\u001b[38;5;241m*\u001b[39m\u001b[38;5;241m*\u001b[39mhist_kws)\n\u001b[0;32m   2212\u001b[0m \u001b[38;5;28;01melse\u001b[39;00m:\n\u001b[0;32m   2214\u001b[0m     _assign_default_kwargs(hist_kws, p\u001b[38;5;241m.\u001b[39mplot_bivariate_histogram, histplot)\n",
      "File \u001b[1;32m~\\AppData\\Local\\Programs\\Python\\Python310\\lib\\site-packages\\seaborn\\distributions.py:575\u001b[0m, in \u001b[0;36m_DistributionPlotter.plot_univariate_histogram\u001b[1;34m(self, multiple, element, fill, common_norm, common_bins, shrink, kde, kde_kws, color, legend, line_kws, estimate_kws, **plot_kws)\u001b[0m\n\u001b[0;32m    570\u001b[0m \u001b[38;5;28;01mif\u001b[39;00m element \u001b[38;5;241m==\u001b[39m \u001b[38;5;124m\"\u001b[39m\u001b[38;5;124mbars\u001b[39m\u001b[38;5;124m\"\u001b[39m:\n\u001b[0;32m    571\u001b[0m \n\u001b[0;32m    572\u001b[0m     \u001b[38;5;66;03m# Use matplotlib bar plotting\u001b[39;00m\n\u001b[0;32m    574\u001b[0m     plot_func \u001b[38;5;241m=\u001b[39m ax\u001b[38;5;241m.\u001b[39mbar \u001b[38;5;28;01mif\u001b[39;00m \u001b[38;5;28mself\u001b[39m\u001b[38;5;241m.\u001b[39mdata_variable \u001b[38;5;241m==\u001b[39m \u001b[38;5;124m\"\u001b[39m\u001b[38;5;124mx\u001b[39m\u001b[38;5;124m\"\u001b[39m \u001b[38;5;28;01melse\u001b[39;00m ax\u001b[38;5;241m.\u001b[39mbarh\n\u001b[1;32m--> 575\u001b[0m     artists \u001b[38;5;241m=\u001b[39m plot_func(\n\u001b[0;32m    576\u001b[0m         hist[\u001b[38;5;124m\"\u001b[39m\u001b[38;5;124medges\u001b[39m\u001b[38;5;124m\"\u001b[39m],\n\u001b[0;32m    577\u001b[0m         hist[\u001b[38;5;124m\"\u001b[39m\u001b[38;5;124mheights\u001b[39m\u001b[38;5;124m\"\u001b[39m] \u001b[38;5;241m-\u001b[39m bottom,\n\u001b[0;32m    578\u001b[0m         hist[\u001b[38;5;124m\"\u001b[39m\u001b[38;5;124mwidths\u001b[39m\u001b[38;5;124m\"\u001b[39m],\n\u001b[0;32m    579\u001b[0m         bottom,\n\u001b[0;32m    580\u001b[0m         align\u001b[38;5;241m=\u001b[39m\u001b[38;5;124m\"\u001b[39m\u001b[38;5;124medge\u001b[39m\u001b[38;5;124m\"\u001b[39m,\n\u001b[0;32m    581\u001b[0m         \u001b[38;5;241m*\u001b[39m\u001b[38;5;241m*\u001b[39martist_kws,\n\u001b[0;32m    582\u001b[0m     )\n\u001b[0;32m    584\u001b[0m     \u001b[38;5;28;01mfor\u001b[39;00m bar \u001b[38;5;129;01min\u001b[39;00m artists:\n\u001b[0;32m    585\u001b[0m         \u001b[38;5;28;01mif\u001b[39;00m \u001b[38;5;28mself\u001b[39m\u001b[38;5;241m.\u001b[39mdata_variable \u001b[38;5;241m==\u001b[39m \u001b[38;5;124m\"\u001b[39m\u001b[38;5;124mx\u001b[39m\u001b[38;5;124m\"\u001b[39m:\n",
      "File \u001b[1;32m~\\AppData\\Local\\Programs\\Python\\Python310\\lib\\site-packages\\matplotlib\\__init__.py:1423\u001b[0m, in \u001b[0;36m_preprocess_data.<locals>.inner\u001b[1;34m(ax, data, *args, **kwargs)\u001b[0m\n\u001b[0;32m   1420\u001b[0m \u001b[38;5;129m@functools\u001b[39m\u001b[38;5;241m.\u001b[39mwraps(func)\n\u001b[0;32m   1421\u001b[0m \u001b[38;5;28;01mdef\u001b[39;00m \u001b[38;5;21minner\u001b[39m(ax, \u001b[38;5;241m*\u001b[39margs, data\u001b[38;5;241m=\u001b[39m\u001b[38;5;28;01mNone\u001b[39;00m, \u001b[38;5;241m*\u001b[39m\u001b[38;5;241m*\u001b[39mkwargs):\n\u001b[0;32m   1422\u001b[0m     \u001b[38;5;28;01mif\u001b[39;00m data \u001b[38;5;129;01mis\u001b[39;00m \u001b[38;5;28;01mNone\u001b[39;00m:\n\u001b[1;32m-> 1423\u001b[0m         \u001b[38;5;28;01mreturn\u001b[39;00m func(ax, \u001b[38;5;241m*\u001b[39m\u001b[38;5;28mmap\u001b[39m(sanitize_sequence, args), \u001b[38;5;241m*\u001b[39m\u001b[38;5;241m*\u001b[39mkwargs)\n\u001b[0;32m   1425\u001b[0m     bound \u001b[38;5;241m=\u001b[39m new_sig\u001b[38;5;241m.\u001b[39mbind(ax, \u001b[38;5;241m*\u001b[39margs, \u001b[38;5;241m*\u001b[39m\u001b[38;5;241m*\u001b[39mkwargs)\n\u001b[0;32m   1426\u001b[0m     auto_label \u001b[38;5;241m=\u001b[39m (bound\u001b[38;5;241m.\u001b[39marguments\u001b[38;5;241m.\u001b[39mget(label_namer)\n\u001b[0;32m   1427\u001b[0m                   \u001b[38;5;129;01mor\u001b[39;00m bound\u001b[38;5;241m.\u001b[39mkwargs\u001b[38;5;241m.\u001b[39mget(label_namer))\n",
      "File \u001b[1;32m~\\AppData\\Local\\Programs\\Python\\Python310\\lib\\site-packages\\matplotlib\\axes\\_axes.py:2454\u001b[0m, in \u001b[0;36mAxes.bar\u001b[1;34m(self, x, height, width, bottom, align, **kwargs)\u001b[0m\n\u001b[0;32m   2445\u001b[0m \u001b[38;5;28;01mfor\u001b[39;00m l, b, w, h, c, e, lw, htch, lbl \u001b[38;5;129;01min\u001b[39;00m args:\n\u001b[0;32m   2446\u001b[0m     r \u001b[38;5;241m=\u001b[39m mpatches\u001b[38;5;241m.\u001b[39mRectangle(\n\u001b[0;32m   2447\u001b[0m         xy\u001b[38;5;241m=\u001b[39m(l, b), width\u001b[38;5;241m=\u001b[39mw, height\u001b[38;5;241m=\u001b[39mh,\n\u001b[0;32m   2448\u001b[0m         facecolor\u001b[38;5;241m=\u001b[39mc,\n\u001b[1;32m   (...)\u001b[0m\n\u001b[0;32m   2452\u001b[0m         hatch\u001b[38;5;241m=\u001b[39mhtch,\n\u001b[0;32m   2453\u001b[0m         )\n\u001b[1;32m-> 2454\u001b[0m     \u001b[43mr\u001b[49m\u001b[38;5;241;43m.\u001b[39;49m\u001b[43m_internal_update\u001b[49m\u001b[43m(\u001b[49m\u001b[43mkwargs\u001b[49m\u001b[43m)\u001b[49m\n\u001b[0;32m   2455\u001b[0m     r\u001b[38;5;241m.\u001b[39mget_path()\u001b[38;5;241m.\u001b[39m_interpolation_steps \u001b[38;5;241m=\u001b[39m \u001b[38;5;241m100\u001b[39m\n\u001b[0;32m   2456\u001b[0m     \u001b[38;5;28;01mif\u001b[39;00m orientation \u001b[38;5;241m==\u001b[39m \u001b[38;5;124m'\u001b[39m\u001b[38;5;124mvertical\u001b[39m\u001b[38;5;124m'\u001b[39m:\n",
      "File \u001b[1;32m~\\AppData\\Local\\Programs\\Python\\Python310\\lib\\site-packages\\matplotlib\\artist.py:1186\u001b[0m, in \u001b[0;36mArtist._internal_update\u001b[1;34m(self, kwargs)\u001b[0m\n\u001b[0;32m   1179\u001b[0m \u001b[38;5;28;01mdef\u001b[39;00m \u001b[38;5;21m_internal_update\u001b[39m(\u001b[38;5;28mself\u001b[39m, kwargs):\n\u001b[0;32m   1180\u001b[0m     \u001b[38;5;124;03m\"\"\"\u001b[39;00m\n\u001b[0;32m   1181\u001b[0m \u001b[38;5;124;03m    Update artist properties without prenormalizing them, but generating\u001b[39;00m\n\u001b[0;32m   1182\u001b[0m \u001b[38;5;124;03m    errors as if calling `set`.\u001b[39;00m\n\u001b[0;32m   1183\u001b[0m \n\u001b[0;32m   1184\u001b[0m \u001b[38;5;124;03m    The lack of prenormalization is to maintain backcompatibility.\u001b[39;00m\n\u001b[0;32m   1185\u001b[0m \u001b[38;5;124;03m    \"\"\"\u001b[39;00m\n\u001b[1;32m-> 1186\u001b[0m     \u001b[38;5;28;01mreturn\u001b[39;00m \u001b[38;5;28;43mself\u001b[39;49m\u001b[38;5;241;43m.\u001b[39;49m\u001b[43m_update_props\u001b[49m\u001b[43m(\u001b[49m\n\u001b[0;32m   1187\u001b[0m \u001b[43m        \u001b[49m\u001b[43mkwargs\u001b[49m\u001b[43m,\u001b[49m\u001b[43m \u001b[49m\u001b[38;5;124;43m\"\u001b[39;49m\u001b[38;5;132;43;01m{cls.__name__}\u001b[39;49;00m\u001b[38;5;124;43m.set() got an unexpected keyword argument \u001b[39;49m\u001b[38;5;124;43m\"\u001b[39;49m\n\u001b[0;32m   1188\u001b[0m \u001b[43m        \u001b[49m\u001b[38;5;124;43m\"\u001b[39;49m\u001b[38;5;132;43;01m{prop_name!r}\u001b[39;49;00m\u001b[38;5;124;43m\"\u001b[39;49m\u001b[43m)\u001b[49m\n",
      "File \u001b[1;32m~\\AppData\\Local\\Programs\\Python\\Python310\\lib\\site-packages\\matplotlib\\artist.py:1160\u001b[0m, in \u001b[0;36mArtist._update_props\u001b[1;34m(self, props, errfmt)\u001b[0m\n\u001b[0;32m   1158\u001b[0m             func \u001b[38;5;241m=\u001b[39m \u001b[38;5;28mgetattr\u001b[39m(\u001b[38;5;28mself\u001b[39m, \u001b[38;5;124mf\u001b[39m\u001b[38;5;124m\"\u001b[39m\u001b[38;5;124mset_\u001b[39m\u001b[38;5;132;01m{\u001b[39;00mk\u001b[38;5;132;01m}\u001b[39;00m\u001b[38;5;124m\"\u001b[39m, \u001b[38;5;28;01mNone\u001b[39;00m)\n\u001b[0;32m   1159\u001b[0m             \u001b[38;5;28;01mif\u001b[39;00m \u001b[38;5;129;01mnot\u001b[39;00m callable(func):\n\u001b[1;32m-> 1160\u001b[0m                 \u001b[38;5;28;01mraise\u001b[39;00m \u001b[38;5;167;01mAttributeError\u001b[39;00m(\n\u001b[0;32m   1161\u001b[0m                     errfmt\u001b[38;5;241m.\u001b[39mformat(\u001b[38;5;28mcls\u001b[39m\u001b[38;5;241m=\u001b[39m\u001b[38;5;28mtype\u001b[39m(\u001b[38;5;28mself\u001b[39m), prop_name\u001b[38;5;241m=\u001b[39mk))\n\u001b[0;32m   1162\u001b[0m             ret\u001b[38;5;241m.\u001b[39mappend(func(v))\n\u001b[0;32m   1163\u001b[0m \u001b[38;5;28;01mif\u001b[39;00m ret:\n",
      "\u001b[1;31mAttributeError\u001b[0m: Rectangle.set() got an unexpected keyword argument 'norm_hist'"
     ]
    },
    {
     "data": {
      "image/png": "[encoded data removed]",
      "text/plain": [
       "<Figure size 360x360 with 1 Axes>"
      ]
     },
     "metadata": {},
     "output_type": "display_data"
    }
   ],
   "source": [
    "sns.displot(review_date.dt.hour, bins = 24, kde= False ,norm_hist=True)"
   ]
  },
  {
   "cell_type": "code",
   "execution_count": 66,
   "id": "730d2108",
   "metadata": {},
   "outputs": [
    {
     "data": {
      "text/plain": [
       "<seaborn.axisgrid.FacetGrid at 0x21b9effc5b0>"
      ]
     },
     "execution_count": 66,
     "metadata": {},
     "output_type": "execute_result"
    },
    {
     "data": {
      "image/png": "[encoded data removed]",
      "text/plain": [
       "<Figure size 360x360 with 1 Axes>"
      ]
     },
     "metadata": {},
     "output_type": "display_data"
    }
   ],
   "source": [
    "sns.displot(review_date.dt.hour, bins=24, kde=False, stat=\"density\")"
   ]
  },
  {
   "cell_type": "code",
   "execution_count": 67,
   "id": "d113fe96",
   "metadata": {},
   "outputs": [
    {
     "data": {
      "text/plain": [
       "<seaborn.axisgrid.FacetGrid at 0x21b9f394bb0>"
      ]
     },
     "execution_count": 67,
     "metadata": {},
     "output_type": "execute_result"
    },
    {
     "data": {
      "image/png": "[encoded data removed]",
      "text/plain": [
       "<Figure size 360x360 with 1 Axes>"
      ]
     },
     "metadata": {},
     "output_type": "display_data"
    }
   ],
   "source": [
    "sns.displot(review_date.dt.dayofweek , bins = 7, kde= False )"
   ]
  },
  {
   "cell_type": "code",
   "execution_count": 68,
   "id": "2886e5fe",
   "metadata": {},
   "outputs": [
    {
     "data": {
      "text/plain": [
       "<seaborn.axisgrid.FacetGrid at 0x21b9f396ef0>"
      ]
     },
     "execution_count": 68,
     "metadata": {},
     "output_type": "execute_result"
    },
    {
     "data": {
      "image/png": "[encoded data removed]",
      "text/plain": [
       "<Figure size 360x360 with 1 Axes>"
      ]
     },
     "metadata": {},
     "output_type": "display_data"
    }
   ],
   "source": [
    "#is the day and horus same for thr\n",
    "review_date= review_date[review_date.dt.dayofweek== 6] \n",
    "sns.displot(review_date.dt.hour , bins =24, kde =False)"
   ]
  },
  {
   "cell_type": "code",
   "execution_count": 69,
   "id": "9de88c2f",
   "metadata": {},
   "outputs": [
    {
     "data": {
      "text/plain": [
       "<seaborn.axisgrid.FacetGrid at 0x21bb0bdf850>"
      ]
     },
     "execution_count": 69,
     "metadata": {},
     "output_type": "execute_result"
    },
    {
     "data": {
      "image/png": "[encoded data removed]",
      "text/plain": [
       "<Figure size 360x360 with 1 Axes>"
      ]
     },
     "metadata": {},
     "output_type": "display_data"
    }
   ],
   "source": [
    "sns.displot(review_date.dt.month , bins =12, kde =False)"
   ]
  },
  {
   "cell_type": "code",
   "execution_count": 81,
   "id": "b2e004fb",
   "metadata": {},
   "outputs": [
    {
     "data": {
      "text/plain": [
       "2155        True\n",
       "2156        True\n",
       "2157        True\n",
       "2158        True\n",
       "2159        True\n",
       "           ...  \n",
       "1069601    False\n",
       "1069603    False\n",
       "1069610    False\n",
       "1069614    False\n",
       "1069615    False\n",
       "Name: review_date, Length: 157795, dtype: bool"
      ]
     },
     "execution_count": 81,
     "metadata": {},
     "output_type": "execute_result"
    }
   ],
   "source": [
    "review_date.dt.year == 2023"
   ]
  },
  {
   "cell_type": "code",
   "execution_count": 89,
   "id": "b655d634",
   "metadata": {},
   "outputs": [
    {
     "data": {
      "text/plain": [
       "<AxesSubplot: ylabel='source'>"
      ]
     },
     "execution_count": 89,
     "metadata": {},
     "output_type": "execute_result"
    },
    {
     "data": {
      "image/png": "[encoded data removed]",
      "text/plain": [
       "<Figure size 432x288 with 1 Axes>"
      ]
     },
     "metadata": {},
     "output_type": "display_data"
    }
   ],
   "source": [
    "df1.source.value_counts().plot(kind=\"pie\")\n"
   ]
  },
  {
   "cell_type": "code",
   "execution_count": 91,
   "id": "9072fa5b",
   "metadata": {},
   "outputs": [
    {
     "data": {
      "text/plain": [
       "<AxesSubplot: ylabel='thumbs_up'>"
      ]
     },
     "execution_count": 91,
     "metadata": {},
     "output_type": "execute_result"
    },
    {
     "data": {
      "image/png": "[encoded data removed]",
      "text/plain": [
       "<Figure size 432x288 with 1 Axes>"
      ]
     },
     "metadata": {},
     "output_type": "display_data"
    }
   ],
   "source": [
    "df1.thumbs_up.value_counts().plot(kind=\"pie\")\n"
   ]
  },
  {
   "cell_type": "code",
   "execution_count": 92,
   "id": "9cc8ee20",
   "metadata": {},
   "outputs": [
    {
     "data": {
      "text/plain": [
       "<AxesSubplot: ylabel='rating'>"
      ]
     },
     "execution_count": 92,
     "metadata": {},
     "output_type": "execute_result"
    },
    {
     "data": {
      "image/png": "[encoded data removed]",
      "text/plain": [
       "<Figure size 432x288 with 1 Axes>"
      ]
     },
     "metadata": {},
     "output_type": "display_data"
    }
   ],
   "source": [
    "df1.rating.value_counts().plot(kind=\"pie\")"
   ]
  },
  {
   "cell_type": "code",
   "execution_count": null,
   "id": "5932ca17",
   "metadata": {},
   "outputs": [],
   "source": []
  },
  {
   "cell_type": "code",
   "execution_count": null,
   "id": "ea90ddea",
   "metadata": {},
   "outputs": [],
   "source": []
  },
  {
   "cell_type": "code",
   "execution_count": null,
   "id": "b991969d",
   "metadata": {},
   "outputs": [],
   "source": []
  },
  {
   "cell_type": "code",
   "execution_count": null,
   "id": "61c76b29",
   "metadata": {},
   "outputs": [],
   "source": []
  }
 ],
 "metadata": {
  "kernelspec": {
   "display_name": "Python 3 (ipykernel)",
   "language": "python",
   "name": "python3"
  },
  "language_info": {
   "codemirror_mode": {
    "name": "ipython",
    "version": 3
   },
   "file_extension": ".py",
   "mimetype": "text/x-python",
   "name": "python",
   "nbconvert_exporter": "python",
   "pygments_lexer": "ipython3",
   "version": "3.10.5"
  }
 },
 "nbformat": 4,
 "nbformat_minor": 5
}
